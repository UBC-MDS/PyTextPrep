{
 "cells": [
  {
   "cell_type": "code",
   "execution_count": null,
   "id": "d7e9609d-662c-4434-9032-d1e86d9845a7",
   "metadata": {},
   "outputs": [],
   "source": []
  }
 ],
 "metadata": {
  "kernelspec": {
   "display_name": "",
   "name": ""
  },
  "language_info": {
   "name": ""
  }
 },
 "nbformat": 4,
 "nbformat_minor": 5
}
